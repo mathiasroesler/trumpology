{
 "cells": [
  {
   "cell_type": "code",
   "execution_count": 25,
   "metadata": {},
   "outputs": [
    {
     "name": "stdout",
     "output_type": "stream",
     "text": [
      "Model: \"sequential_11\"\n",
      "_________________________________________________________________\n",
      "Layer (type)                 Output Shape              Param #   \n",
      "=================================================================\n",
      "dense_32 (Dense)             (None, 3)                 66        \n",
      "_________________________________________________________________\n",
      "dense_33 (Dense)             (None, 2)                 8         \n",
      "_________________________________________________________________\n",
      "dense_34 (Dense)             (None, 1)                 3         \n",
      "=================================================================\n",
      "Total params: 77\n",
      "Trainable params: 77\n",
      "Non-trainable params: 0\n",
      "_________________________________________________________________\n",
      "Train on 39 samples\n",
      "Epoch 1/30\n",
      "39/39 [==============================] - 0s 12ms/sample - loss: 0.2937\n",
      "Epoch 2/30\n",
      "39/39 [==============================] - 0s 2ms/sample - loss: 0.2379\n",
      "Epoch 3/30\n",
      "39/39 [==============================] - 0s 2ms/sample - loss: 0.1675\n",
      "Epoch 4/30\n",
      "39/39 [==============================] - 0s 2ms/sample - loss: 0.1390\n",
      "Epoch 5/30\n",
      "39/39 [==============================] - 0s 2ms/sample - loss: 0.1352\n",
      "Epoch 6/30\n",
      "39/39 [==============================] - 0s 2ms/sample - loss: 0.1315\n",
      "Epoch 7/30\n",
      "39/39 [==============================] - 0s 2ms/sample - loss: 0.1219\n",
      "Epoch 8/30\n",
      "39/39 [==============================] - 0s 2ms/sample - loss: 0.1151\n",
      "Epoch 9/30\n",
      "39/39 [==============================] - 0s 2ms/sample - loss: 0.1137\n",
      "Epoch 10/30\n",
      "39/39 [==============================] - 0s 2ms/sample - loss: 0.1056\n",
      "Epoch 11/30\n",
      "39/39 [==============================] - 0s 2ms/sample - loss: 0.1005\n",
      "Epoch 12/30\n",
      "39/39 [==============================] - 0s 2ms/sample - loss: 0.0973\n",
      "Epoch 13/30\n",
      "39/39 [==============================] - 0s 2ms/sample - loss: 0.0921\n",
      "Epoch 14/30\n",
      "39/39 [==============================] - 0s 2ms/sample - loss: 0.0882\n",
      "Epoch 15/30\n",
      "39/39 [==============================] - 0s 2ms/sample - loss: 0.0838\n",
      "Epoch 16/30\n",
      "39/39 [==============================] - 0s 2ms/sample - loss: 0.0802\n",
      "Epoch 17/30\n",
      "39/39 [==============================] - 0s 2ms/sample - loss: 0.0764\n",
      "Epoch 18/30\n",
      "39/39 [==============================] - 0s 1ms/sample - loss: 0.0729\n",
      "Epoch 19/30\n",
      "39/39 [==============================] - 0s 2ms/sample - loss: 0.0698\n",
      "Epoch 20/30\n",
      "39/39 [==============================] - 0s 2ms/sample - loss: 0.0655\n",
      "Epoch 21/30\n",
      "39/39 [==============================] - 0s 2ms/sample - loss: 0.0648\n",
      "Epoch 22/30\n",
      "39/39 [==============================] - 0s 1ms/sample - loss: 0.0642\n",
      "Epoch 23/30\n",
      "39/39 [==============================] - 0s 2ms/sample - loss: 0.0605\n",
      "Epoch 24/30\n",
      "39/39 [==============================] - 0s 2ms/sample - loss: 0.0568\n",
      "Epoch 25/30\n",
      "39/39 [==============================] - 0s 2ms/sample - loss: 0.0546\n",
      "Epoch 26/30\n",
      "39/39 [==============================] - 0s 2ms/sample - loss: 0.0542\n",
      "Epoch 27/30\n",
      "39/39 [==============================] - 0s 2ms/sample - loss: 0.0539\n",
      "Epoch 28/30\n",
      "39/39 [==============================] - 0s 2ms/sample - loss: 0.0518\n",
      "Epoch 29/30\n",
      "39/39 [==============================] - 0s 2ms/sample - loss: 0.0505\n",
      "Epoch 30/30\n",
      "39/39 [==============================] - 0s 1ms/sample - loss: 0.0476\n"
     ]
    },
    {
     "data": {
      "text/plain": [
       "<tensorflow.python.keras.callbacks.History at 0x6448158d0>"
      ]
     },
     "execution_count": 25,
     "metadata": {},
     "output_type": "execute_result"
    }
   ],
   "source": [
    "#Reseau de neurones pour identification de locuteur\n",
    "import tensorflow as tf\n",
    "import numpy as np\n",
    "import matplotlib.pyplot as plt\n",
    "\n",
    "Base_train = np.genfromtxt('Base_train.dat', dtype=None)\n",
    "Base_test = np.genfromtxt('Base_test.dat', dtype=None)\n",
    "Label_train = np.genfromtxt('Label_train.dat', dtype=None)\n",
    "#Les ex sont en lignes (12ou85x16) (train_ou_test)\n",
    "\n",
    "#Définition de l'Architecture:\n",
    "#on utilise 2 couches et un noeud en sortie\n",
    "from tensorflow.keras.models import Sequential\n",
    "from tensorflow.keras.layers import Dense\n",
    "\n",
    "model = Sequential()\n",
    "model.add(Dense(5,input_shape=(21,), activation='relu'))\n",
    "model.add(Dense(5, activation='relu'))\n",
    "model.add(Dense(1))\n",
    "\n",
    "model.summary()\n",
    "\n",
    "model.compile(loss='mse',optimizer='adam')\n",
    "model.fit(Base_train,Label_train, batch_size=1,epochs=30)\n"
   ]
  },
  {
   "cell_type": "code",
   "execution_count": 27,
   "metadata": {},
   "outputs": [
    {
     "data": {
      "text/plain": [
       "array([[0.657242  ],\n",
       "       [0.7251189 ],\n",
       "       [0.00170501]], dtype=float32)"
      ]
     },
     "execution_count": 27,
     "metadata": {},
     "output_type": "execute_result"
    }
   ],
   "source": [
    "predictions = model.predict(Base_test)\n",
    "predictions[1:4]"
   ]
  },
  {
   "cell_type": "code",
   "execution_count": 17,
   "metadata": {},
   "outputs": [
    {
     "data": {
      "text/plain": [
       "array([[ 0.70696104],\n",
       "       [ 0.6232128 ],\n",
       "       [ 0.24273628],\n",
       "       [ 0.23219913],\n",
       "       [ 0.23917863],\n",
       "       [ 0.65837264],\n",
       "       [ 0.7333089 ],\n",
       "       [ 0.84506947],\n",
       "       [ 0.26702875],\n",
       "       [ 0.411911  ],\n",
       "       [-0.04022688],\n",
       "       [ 0.02557342]], dtype=float32)"
      ]
     },
     "execution_count": 17,
     "metadata": {},
     "output_type": "execute_result"
    }
   ],
   "source": [
    "predictions[4:16]"
   ]
  },
  {
   "cell_type": "code",
   "execution_count": 18,
   "metadata": {},
   "outputs": [
    {
     "data": {
      "text/plain": [
       "array([[ 9.6685797e-02],\n",
       "       [ 2.5503993e-02],\n",
       "       [ 4.3410766e-01],\n",
       "       [ 2.9389226e-01],\n",
       "       [ 4.0017545e-01],\n",
       "       [-4.9468517e-02],\n",
       "       [-6.2460147e-02],\n",
       "       [-3.4064054e-04],\n",
       "       [ 3.6097026e-01],\n",
       "       [ 3.6552632e-01],\n",
       "       [ 3.9907056e-01],\n",
       "       [ 2.7287167e-01],\n",
       "       [ 3.1268477e-01],\n",
       "       [ 3.9198428e-02],\n",
       "       [-1.6439214e-02],\n",
       "       [ 1.9688696e-01],\n",
       "       [-1.2997091e-03]], dtype=float32)"
      ]
     },
     "execution_count": 18,
     "metadata": {},
     "output_type": "execute_result"
    }
   ],
   "source": [
    "predictions[16:]"
   ]
  },
  {
   "cell_type": "code",
   "execution_count": null,
   "metadata": {},
   "outputs": [],
   "source": []
  }
 ],
 "metadata": {
  "kernelspec": {
   "display_name": "Python 3",
   "language": "python",
   "name": "python3"
  },
  "language_info": {
   "codemirror_mode": {
    "name": "ipython",
    "version": 3
   },
   "file_extension": ".py",
   "mimetype": "text/x-python",
   "name": "python",
   "nbconvert_exporter": "python",
   "pygments_lexer": "ipython3",
   "version": "3.7.3"
  }
 },
 "nbformat": 4,
 "nbformat_minor": 4
}
